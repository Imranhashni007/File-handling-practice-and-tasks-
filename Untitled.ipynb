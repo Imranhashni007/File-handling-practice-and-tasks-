{
 "cells": [
  {
   "cell_type": "code",
   "execution_count": 19,
   "id": "ff59ed30-7573-4388-b929-294d412101c3",
   "metadata": {},
   "outputs": [
    {
     "name": "stdin",
     "output_type": "stream",
     "text": [
      "Enter your age hi iam imran\n"
     ]
    }
   ],
   "source": [
    "age=input('Enter your age')\n",
    "file=open('data.txt','w')\n",
    "file.write(age)\n",
    "file.close()"
   ]
  },
  {
   "cell_type": "code",
   "execution_count": 2,
   "id": "431cb72b-12ba-4a05-b8ac-3b511acee4f9",
   "metadata": {},
   "outputs": [
    {
     "name": "stdout",
     "output_type": "stream",
     "text": [
      "34\n"
     ]
    }
   ],
   "source": [
    "file=open('data.txt','r')\n",
    "print(file.read())\n",
    "#file.close()"
   ]
  },
  {
   "cell_type": "code",
   "execution_count": 3,
   "id": "076deae5-e95c-49aa-ac91-123f492150a4",
   "metadata": {},
   "outputs": [
    {
     "data": {
      "text/plain": [
       "'data.txt'"
      ]
     },
     "execution_count": 3,
     "metadata": {},
     "output_type": "execute_result"
    }
   ],
   "source": [
    "file.name"
   ]
  },
  {
   "cell_type": "code",
   "execution_count": 4,
   "id": "6411b99d-7c83-4789-9c54-265e78e38e09",
   "metadata": {},
   "outputs": [
    {
     "data": {
      "text/plain": [
       "'r'"
      ]
     },
     "execution_count": 4,
     "metadata": {},
     "output_type": "execute_result"
    }
   ],
   "source": [
    "file.mode"
   ]
  },
  {
   "cell_type": "code",
   "execution_count": 5,
   "id": "815b5204-31e3-4f8a-bf50-13981e09c806",
   "metadata": {},
   "outputs": [
    {
     "data": {
      "text/plain": [
       "'cp1252'"
      ]
     },
     "execution_count": 5,
     "metadata": {},
     "output_type": "execute_result"
    }
   ],
   "source": [
    "file.encoding"
   ]
  },
  {
   "cell_type": "code",
   "execution_count": 6,
   "id": "08fa9c60-8950-4691-aece-245bb76edfaa",
   "metadata": {},
   "outputs": [
    {
     "ename": "AttributeError",
     "evalue": "'_io.TextIOWrapper' object has no attribute 'burrefing'",
     "output_type": "error",
     "traceback": [
      "\u001b[1;31m---------------------------------------------------------------------------\u001b[0m",
      "\u001b[1;31mAttributeError\u001b[0m                            Traceback (most recent call last)",
      "\u001b[1;32m<ipython-input-6-bd32277cd8e1>\u001b[0m in \u001b[0;36m<module>\u001b[1;34m\u001b[0m\n\u001b[1;32m----> 1\u001b[1;33m \u001b[0mfile\u001b[0m\u001b[1;33m.\u001b[0m\u001b[0mburrefing\u001b[0m\u001b[1;33m\u001b[0m\u001b[1;33m\u001b[0m\u001b[0m\n\u001b[0m",
      "\u001b[1;31mAttributeError\u001b[0m: '_io.TextIOWrapper' object has no attribute 'burrefing'"
     ]
    }
   ],
   "source": [
    "file.burrefing"
   ]
  },
  {
   "cell_type": "code",
   "execution_count": 8,
   "id": "1d911f11-4319-4a66-ba64-d6326ac7dd0e",
   "metadata": {},
   "outputs": [
    {
     "data": {
      "text/plain": [
       "False"
      ]
     },
     "execution_count": 8,
     "metadata": {},
     "output_type": "execute_result"
    }
   ],
   "source": [
    "file.closed"
   ]
  },
  {
   "cell_type": "code",
   "execution_count": 11,
   "id": "b54c8373-231f-46d8-8206-79f591dfa61f",
   "metadata": {},
   "outputs": [
    {
     "name": "stdout",
     "output_type": "stream",
     "text": [
      "True\n",
      "False\n"
     ]
    }
   ],
   "source": [
    "print(file.readable())\n",
    "print(file.writable())"
   ]
  },
  {
   "cell_type": "code",
   "execution_count": 13,
   "id": "79d691d4-d1f5-421d-a0b3-52faeb8a4b50",
   "metadata": {},
   "outputs": [
    {
     "data": {
      "text/plain": [
       "False"
      ]
     },
     "execution_count": 13,
     "metadata": {},
     "output_type": "execute_result"
    }
   ],
   "source": [
    "from os import path\n",
    "path.isfile('da.txt')"
   ]
  },
  {
   "cell_type": "code",
   "execution_count": 15,
   "id": "9c1a8f2b-306d-4533-83e0-faf11e6a1d49",
   "metadata": {},
   "outputs": [
    {
     "name": "stdout",
     "output_type": "stream",
     "text": [
      "334\n"
     ]
    }
   ],
   "source": [
    "with open('data.txt',mode='r') as f:\n",
    "    data=f.read()\n",
    "    print(data)\n"
   ]
  },
  {
   "cell_type": "code",
   "execution_count": 17,
   "id": "6b1f5ffc-7835-43cd-8eb9-3768395051eb",
   "metadata": {},
   "outputs": [],
   "source": [
    "#text mode \n",
    "# having encoding \n",
    "file=open('data.txt',mode='r')\n",
    "print(file.read())\n",
    "file.close()"
   ]
  },
  {
   "cell_type": "code",
   "execution_count": 21,
   "id": "1afa7205-b618-4caa-bb5a-d017af852b64",
   "metadata": {},
   "outputs": [
    {
     "name": "stdout",
     "output_type": "stream",
     "text": [
      "b'hi iam imran'\n"
     ]
    }
   ],
   "source": [
    "#Binary Mode \n",
    "#contents is in bytes \n",
    "file=open('data.txt',mode='rb')\n",
    "print(file.read())\n",
    "file.close()"
   ]
  },
  {
   "cell_type": "code",
   "execution_count": 27,
   "id": "c963a9e1-0445-41bf-a286-4abfd74c51f0",
   "metadata": {},
   "outputs": [
    {
     "name": "stdout",
     "output_type": "stream",
     "text": [
      "hi iam imran\n"
     ]
    }
   ],
   "source": [
    "#size spicy number of chracters to be read in text mode \n",
    "# having encoding \n",
    "file=open('data.txt',mode='r')\n",
    "# read full context \n",
    "print(file.read())"
   ]
  },
  {
   "cell_type": "code",
   "execution_count": 33,
   "id": "1bd6d899-3bcb-4442-9e55-e55591f6442c",
   "metadata": {},
   "outputs": [
    {
     "name": "stdout",
     "output_type": "stream",
     "text": [
      "hi iam\n",
      " imra\n"
     ]
    }
   ],
   "source": [
    "# read full context \n",
    "file=open('data.txt',mode='r')\n",
    "size=6\n",
    "size1=5\n",
    "data=file.read(size)\n",
    "data1=file.read(size1)\n",
    "print(data)\n",
    "print(data1)"
   ]
  },
  {
   "cell_type": "code",
   "execution_count": 46,
   "id": "6b29ad68-8ac4-4355-9595-822c200bd6e3",
   "metadata": {},
   "outputs": [
    {
     "data": {
      "text/plain": [
       "21"
      ]
     },
     "execution_count": 46,
     "metadata": {},
     "output_type": "execute_result"
    }
   ],
   "source": [
    "file=open('intro.txt','w')\n",
    "file.write('Hi iam imran \\n hashmi')\n"
   ]
  },
  {
   "cell_type": "code",
   "execution_count": 49,
   "id": "98de2f0f-a073-4ed6-ac17-b7b9dfc86f2b",
   "metadata": {},
   "outputs": [
    {
     "name": "stdout",
     "output_type": "stream",
     "text": [
      "Hi iam imran \n",
      "\n",
      " hashmi\n"
     ]
    }
   ],
   "source": [
    "file=open('intro.txt','r')\n",
    "data=file.readline()\n",
    "data1=file.readline()\n",
    "print(data)\n",
    "print(data1)\n",
    "file.close()"
   ]
  },
  {
   "cell_type": "code",
   "execution_count": 53,
   "id": "499539a3-3668-4717-8f57-d5cb1f8bdecb",
   "metadata": {},
   "outputs": [
    {
     "name": "stdout",
     "output_type": "stream",
     "text": [
      "Hi ia"
     ]
    }
   ],
   "source": [
    "file=open('intro.txt','r')\n",
    "data=file.readline(3)\n",
    "data1=file.readline(2)\n",
    "print(data,end='')\n",
    "print(data1,end='')"
   ]
  },
  {
   "cell_type": "code",
   "execution_count": 56,
   "id": "56194b74-dc17-4be1-881c-8b91e3124ea5",
   "metadata": {},
   "outputs": [
    {
     "name": "stdout",
     "output_type": "stream",
     "text": [
      "['Hi iam imran \\n', ' hashmi']\n",
      "Hi iam imran \n",
      " hashmi"
     ]
    }
   ],
   "source": [
    "file=open('intro.txt','r')\n",
    "data=file.readlines()\n",
    "print(data)\n",
    "for line in data:\n",
    "    print(line,end='')\n"
   ]
  },
  {
   "cell_type": "code",
   "execution_count": 58,
   "id": "b5b6f844-0ce7-4f56-a40c-7e1e54cb1692",
   "metadata": {},
   "outputs": [
    {
     "name": "stdout",
     "output_type": "stream",
     "text": [
      "['Hi iam imran \\n', ' hashmi']\n",
      "Hi iam imran \n",
      " hashmi"
     ]
    }
   ],
   "source": [
    "file=open('intro.txt','r')\n",
    "print(list(file))\n",
    "for line in data:\n",
    "    print(line,end='')\n"
   ]
  },
  {
   "cell_type": "code",
   "execution_count": 59,
   "id": "fa125bd3-14b1-4d81-8c96-0ba923dc1bdc",
   "metadata": {},
   "outputs": [
    {
     "name": "stdout",
     "output_type": "stream",
     "text": [
      "0\n",
      "6\n",
      "11\n",
      "hi iam\n",
      " imra\n"
     ]
    }
   ],
   "source": [
    "#tell method tell us file position \n",
    "file=open('data.txt',mode='r')\n",
    "size=6\n",
    "size1=5\n",
    "print(file.tell())\n",
    "data=file.read(size)\n",
    "print(file.tell())6\n",
    "data1=file.read(size1)\n",
    "print(file.tell())\n",
    "print(data)\n",
    "print(data1)"
   ]
  },
  {
   "cell_type": "code",
   "execution_count": 3,
   "id": "1efa1e41-f21b-4cc2-aae3-99e1bbb7e68e",
   "metadata": {},
   "outputs": [
    {
     "name": "stdout",
     "output_type": "stream",
     "text": [
      "0\n",
      "0\n",
      "hi iam\n",
      "6\n",
      "hi iam\n",
      "hi iam\n"
     ]
    }
   ],
   "source": [
    "#seek method change file position \n",
    "file=open('data.txt',mode='r')\n",
    "print(file.tell())\n",
    "data=file.read(6)\n",
    "file.seek(0)\n",
    "print(file.tell())\n",
    "print(data)\n",
    "data1=file.read(6)\n",
    "print(file.tell())\n",
    "print(data1)"
   ]
  },
  {
   "cell_type": "code",
   "execution_count": 15,
   "id": "269bc4fe-9a6b-4671-a667-0071993e0b97",
   "metadata": {},
   "outputs": [
    {
     "name": "stdout",
     "output_type": "stream",
     "text": [
      "1\n",
      "3\n",
      "12\n"
     ]
    }
   ],
   "source": [
    "f=open('data.txt',mode='r')\n",
    "number_of_words=0\n",
    "number_of_char=0\n",
    "number_of_lines=0\n",
    "for line in f:\n",
    "    number_of_lines+=1\n",
    "    line=line.strip('\\n')\n",
    "    number_of_char+=len(line)\n",
    "    list1=line.split()\n",
    "    number_of_words+=len(list1)\n",
    "f.close()\n",
    "print(number_of_lines)\n",
    "print(number_of_words)\n",
    "print(number_of_char)\n"
   ]
  },
  {
   "cell_type": "code",
   "execution_count": 23,
   "id": "8d35ddf4-69d6-42a0-b38f-70f89a4d28d9",
   "metadata": {},
   "outputs": [],
   "source": [
    "f=open('data.txt',mode='a')\n",
    "age='12'\n",
    "f.write(age)\n",
    "f.close()"
   ]
  },
  {
   "cell_type": "markdown",
   "id": "9d73b1de-4ac1-4d68-af86-42a5edfe08ae",
   "metadata": {},
   "source": [
    "##### def put_table(file_name,number):\n",
    "    #file=open(file_name,mode='a')\n",
    "    #print(number)\n",
    "    for count in range(1,11):\n",
    "        index=number*count\n",
    "        print(index)\n",
    "        #file.write(f'{number} x {count} = {index} \\n')\n",
    "    \n",
    "file_name='Table.txt'\n",
    "number=input('input a number to create table table')\n",
    "number=int(number)\n",
    "put_table(file_name,number)\n",
    "    "
   ]
  },
  {
   "cell_type": "code",
   "execution_count": 32,
   "id": "08ba10cc-21cc-4448-964f-5ec9f688a341",
   "metadata": {},
   "outputs": [
    {
     "name": "stdout",
     "output_type": "stream",
     "text": [
      "7\n",
      "14\n",
      "21\n",
      "28\n",
      "35\n",
      "42\n",
      "49\n",
      "56\n",
      "63\n",
      "70\n"
     ]
    }
   ],
   "source": [
    "number=7\n",
    "for count in range(1,11):\n",
    "        index=number*count\n",
    "        print(index)"
   ]
  },
  {
   "cell_type": "code",
   "execution_count": 10,
   "id": "1e5db5eb-96f3-433b-a0b0-153f1e916795",
   "metadata": {},
   "outputs": [
    {
     "name": "stdin",
     "output_type": "stream",
     "text": [
      "input a number to create table table 7\n"
     ]
    }
   ],
   "source": [
    "'''\n",
    "IN this code I write table after taking input from user if table exists it will print table already exists \n",
    "'''\n",
    "def write_table(file_name,number): \n",
    "    file=open(file_name,mode='a+')\n",
    "    file.seek(0)\n",
    "    data=file.readlines()\n",
    "    for line in data:\n",
    "        if f'The table of {number}' in line:\n",
    "            print(f'The table of {number} already exists')\n",
    "            break\n",
    "    else:\n",
    "        file.write(f'The table of {number}\\n')\n",
    "        for count in range(1,11):\n",
    "            index=number*count  \n",
    "            file.write(f'{number} x {count} = {index} \\n') \n",
    "    file.close()\n",
    "    \n",
    "    \n",
    "file_name='Table.txt' \n",
    "number=input('input a number to create table table') \n",
    "try:\n",
    "    number=int(number)\n",
    "    write_table(file_name,number)\n",
    "except:\n",
    "    print('You not enter a number')\n"
   ]
  },
  {
   "cell_type": "code",
   "execution_count": 30,
   "id": "4c807257-9e5d-4d09-98eb-b5d10db15a04",
   "metadata": {},
   "outputs": [
    {
     "name": "stdout",
     "output_type": "stream",
     "text": [
      "C:\\Users\\ih772\\Downloads\\data_20240809_153153_20240812_141356_20240812_152744_20240812_153228.txt\n",
      "Renamed and moved file: data_20240809_153153_20240812_141356_20240812_152744_20240812_153228_20240812_154420.txt\n"
     ]
    }
   ],
   "source": [
    "'''\n",
    "Check file extension  and time stamp \n",
    "check excel is empty or not  without opening it\n",
    "Make folder excel, text, pdf and for others unverified\n",
    "move file to that folder with file name and time stamp to move\n",
    "'''\n",
    "\n",
    "import os\n",
    "import datetime\n",
    "import shutil\n",
    "\n",
    "def file_operation(path, moved_path):\n",
    "    # Ensure the source and destination paths exist\n",
    "    if not os.path.exists(path):\n",
    "        print(f\"Source path '{path}' does not exist.\")\n",
    "        return 'file not exists'\n",
    "    if not os.path.exists(moved_path):\n",
    "        os.makedirs(moved_path)\n",
    "         \n",
    "    dir_list = os.listdir(path)\n",
    "    \n",
    "    for file_name in dir_list:\n",
    "        full_path = os.path.join(path, file_name)\n",
    "        print(full_path)\n",
    "        \n",
    "        split_files = os.path.splitext(file_name)\n",
    "        extension = split_files[1]\n",
    "        \n",
    "        time_now = datetime.datetime.now().strftime('%Y%m%d_%H%M%S')\n",
    "        \n",
    "        timestamp = os.path.getmtime(full_path)\n",
    "        date_time = datetime.datetime.fromtimestamp(timestamp)\n",
    "        formatted_timestamp = date_time.strftime('%M-%d-%Y %H:%M:%S')\n",
    "        \n",
    "        file_new_name = split_files[0] + \"_\" + time_now + extension\n",
    "        file_full_path = os.path.join(path, file_new_name)\n",
    "        \n",
    "        # Rename the file\n",
    "        os.rename(full_path, file_full_path)\n",
    "        \n",
    "        try:\n",
    "            if extension == '.csv' or extension == '.xlsx':\n",
    "                if os.path.getsize(file_full_path) == 0:\n",
    "                    print(\"The file is empty.\")\n",
    "                else:\n",
    "                    print(\"The file is not empty.\")\n",
    "                    \n",
    "                move_dir = os.path.join(moved_path, 'Excel')\n",
    "                os.makedirs(move_dir, exist_ok=True)\n",
    "                shutil.move(file_full_path, move_dir)\n",
    "                print(f'Renamed and moved file: {file_new_name}')\n",
    "            \n",
    "            elif extension == '.pdf':\n",
    "                move_dir = os.path.join(moved_path, 'Pdf')\n",
    "                os.makedirs(move_dir, exist_ok=True)\n",
    "                shutil.move(file_full_path, move_dir)\n",
    "                print(f'Renamed and moved file: {file_new_name}')\n",
    "            \n",
    "            elif extension == '.txt':\n",
    "                move_dir = os.path.join(moved_path, 'txt')\n",
    "                os.makedirs(move_dir, exist_ok=True)\n",
    "                shutil.move(file_full_path, move_dir)\n",
    "                print(f'Renamed and moved file: {file_new_name}')\n",
    "            \n",
    "            else:\n",
    "                move_dir = os.path.join(moved_path, 'unclassified')\n",
    "                os.makedirs(move_dir, exist_ok=True)\n",
    "                shutil.move(file_full_path, move_dir)\n",
    "                print(f'Renamed and moved file: {file_new_name}')\n",
    "        \n",
    "        except Exception as e:\n",
    "            print(f\"An error occurred: {e}\")\n",
    "\n",
    "path = os.path.join(os.path.expanduser(\"~\"), \"Downloads\")\n",
    "moved_path = os.path.join(os.path.expanduser(\"~\"), 'Documents', 'Process Studio Workspace', 'File Handling')\n",
    "file_operation(path, moved_path)\n"
   ]
  },
  {
   "cell_type": "code",
   "execution_count": 1,
   "id": "4f84e703-3ab8-4a30-ba60-a0abedb46998",
   "metadata": {},
   "outputs": [
    {
     "name": "stdout",
     "output_type": "stream",
     "text": [
      "Moved files for CNIC 5650321908821 to folder CNIC folder\\5650321908821 with new names\n",
      "Moved files for CNIC 5650321908824 to folder CNIC folder\\5650321908824 with new names\n",
      "\n",
      "All files have pairs.\n"
     ]
    }
   ],
   "source": [
    "'''\n",
    "Create folders for Excel files with CNIC pairs\n",
    "Check if Excel files with the same CNIC are in pairs\n",
    "If files are paired, create a folder with CNIC and move files\n",
    "If files are not in pairs, follow the same step\n",
    "Create an Excel file with details of the data\n",
    "Show proper logging\n",
    "'''\n",
    "import os\n",
    "import re\n",
    "import shutil\n",
    "import csv  # Don't forget to import csv for handling the summary file\n",
    "from datetime import datetime\n",
    "\n",
    "pattern1 = r\"\\b\\d{13}\\b\"\n",
    "pattern2 = r\"\\b\\d{5}-\\d{7}-\\d{1}\\b\"\n",
    "\n",
    "def find_files_with_patterns(folder_path):\n",
    "    files_dict = {}\n",
    "    paired_files = []\n",
    "    unpaired_files = []\n",
    "\n",
    "    # Scan the directory and process files\n",
    "    for filename in os.listdir(folder_path):\n",
    "        # Only process .csv files\n",
    "        if filename.endswith('.csv'):\n",
    "            match1 = re.search(pattern1, filename)\n",
    "            match2 = re.search(pattern2, filename)\n",
    "\n",
    "            if match1:\n",
    "                number = match1.group()\n",
    "                if number in files_dict:\n",
    "                    files_dict[number].append(filename)\n",
    "                else:\n",
    "                    files_dict[number] = [filename]\n",
    "            elif match2:\n",
    "                number_with_hyphens = match2.group()\n",
    "                # Optionally remove hyphens to normalize keys\n",
    "                number = number_with_hyphens.replace(\"-\", \"\")\n",
    "                if number in files_dict:\n",
    "                    files_dict[number].append(filename)\n",
    "                else:\n",
    "                    files_dict[number] = [filename]\n",
    "\n",
    "    for number, files in files_dict.items():\n",
    "        if len(files) >= 2:\n",
    "            paired_files.append((number, files))\n",
    "        else:\n",
    "            unpaired_files.extend(files)\n",
    "    \n",
    "    return paired_files, unpaired_files\n",
    "\n",
    "def move_files_to_folders(folder_path, paired_files, summary_file_path):\n",
    "    start_time = datetime.now().strftime('%Y-%m-%d %H:%M:%S')\n",
    "\n",
    "    # Check if the CSV file exists, if not, create it with headers\n",
    "    if not os.path.exists(summary_file_path):\n",
    "        with open(summary_file_path, 'a', newline='') as csvfile:\n",
    "            csv_writer = csv.writer(csvfile)\n",
    "            csv_writer.writerow([\"Start Time\", \"End Time\", \"Folder Name\", \"Paired Files\"])\n",
    "\n",
    "    with open(summary_file_path, 'a', newline='') as csvfile:\n",
    "        csv_writer = csv.writer(csvfile)\n",
    "\n",
    "        for number, files in paired_files:\n",
    "            # Create a new folder named after the CNIC number\n",
    "            cnic_folder = os.path.join(folder_path, number)\n",
    "            os.makedirs(cnic_folder, exist_ok=True)\n",
    "            \n",
    "            # Move each file in the pair to the new folder with the new name\n",
    "            for file in files:\n",
    "                src_path = os.path.join(folder_path, file)\n",
    "                \n",
    "                # Split the file name and extension\n",
    "                file_name, extension = os.path.splitext(file)\n",
    "                \n",
    "                # Create a new file name with the start time and extension\n",
    "                file_new_name = f\"{file_name}_{datetime.now().strftime('%d-%-m%-Y-%H-%M-%S')}{extension}\"\n",
    "                dest_path = os.path.join(cnic_folder, file_new_name)\n",
    "                \n",
    "                # Move the file to the destination path\n",
    "                shutil.move(src_path, dest_path)\n",
    "            \n",
    "            end_time = datetime.now().strftime('%d-%m-%Y %H:%M:%S')\n",
    "\n",
    "            # Write the details to the summary CSV file\n",
    "            csv_writer.writerow([start_time, end_time, number, ', '.join(files)])\n",
    "\n",
    "            print(f\"Moved files for CNIC {number} to folder {cnic_folder} with new names\")\n",
    "\n",
    "def main():\n",
    "    folder_path = \"CNIC folder\"  # Replace with the actual folder path\n",
    "    summary_file_path = os.path.join(folder_path, 'summary.csv')\n",
    "    \n",
    "    paired_files, unpaired_files = find_files_with_patterns(folder_path)\n",
    "    \n",
    "    if paired_files:\n",
    "        move_files_to_folders(folder_path, paired_files, summary_file_path)\n",
    "    \n",
    "    if unpaired_files:\n",
    "        print(\"\\nUnpaired files:\")\n",
    "        for file in unpaired_files:\n",
    "            print(file)\n",
    "    else:\n",
    "        print(\"\\nAll files have pairs.\")\n",
    "\n",
    "if __name__ == \"__main__\":\n",
    "    main()\n"
   ]
  },
  {
   "cell_type": "code",
   "execution_count": null,
   "id": "0166fda3-15ab-4c3c-8926-9e636b12a26d",
   "metadata": {},
   "outputs": [],
   "source": []
  }
 ],
 "metadata": {
  "kernelspec": {
   "display_name": "Python 3",
   "language": "python",
   "name": "python3"
  },
  "language_info": {
   "codemirror_mode": {
    "name": "ipython",
    "version": 3
   },
   "file_extension": ".py",
   "mimetype": "text/x-python",
   "name": "python",
   "nbconvert_exporter": "python",
   "pygments_lexer": "ipython3",
   "version": "3.7.5"
  }
 },
 "nbformat": 4,
 "nbformat_minor": 5
}
